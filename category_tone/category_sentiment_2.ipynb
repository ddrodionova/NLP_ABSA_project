{
  "nbformat": 4,
  "nbformat_minor": 0,
  "metadata": {
    "colab": {
      "name": "Copy of Copy of category_sentiment.ipynb",
      "provenance": [],
      "collapsed_sections": []
    },
    "kernelspec": {
      "name": "python3",
      "display_name": "Python 3"
    },
    "language_info": {
      "name": "python"
    }
  },
  "cells": [
    {
      "cell_type": "code",
      "execution_count": 1,
      "metadata": {
        "id": "meR9cJoFZn7U"
      },
      "outputs": [],
      "source": [
        "import pandas as pd\n",
        "from collections import Counter, defaultdict"
      ]
    },
    {
      "cell_type": "code",
      "source": [
        "pred_asp = pd.read_csv('our_dev_pred_aspects.txt', index_col= 0)\n",
        "pred_asp = pred_asp.rename(columns={'mention':'aspect'})"
      ],
      "metadata": {
        "id": "u0RmRKNxa1aI"
      },
      "execution_count": 3,
      "outputs": []
    },
    {
      "cell_type": "code",
      "source": [
        "pred_asp['sentiment'].value_counts()"
      ],
      "metadata": {
        "colab": {
          "base_uri": "https://localhost:8080/"
        },
        "id": "LYMIdADcbViB",
        "outputId": "60ed25dd-3d47-4d91-d5d8-206da4ddb2ab"
      },
      "execution_count": 4,
      "outputs": [
        {
          "output_type": "execute_result",
          "data": {
            "text/plain": [
              "positive    694\n",
              "neutral     315\n",
              "negative    181\n",
              "Name: sentiment, dtype: int64"
            ]
          },
          "metadata": {},
          "execution_count": 4
        }
      ]
    },
    {
      "cell_type": "code",
      "source": [
        "!wget https://github.com/named-entity/hse-nlp/raw/master/4th_year/Project/dev_cats.txt\n",
        "!wget https://github.com/named-entity/hse-nlp/raw/master/4th_year/Project/dev_pred_cats.txt"
      ],
      "metadata": {
        "colab": {
          "base_uri": "https://localhost:8080/"
        },
        "id": "Q3M5ldO25UdI",
        "outputId": "b399b489-c143-4405-cea2-32f61fe93cad"
      },
      "execution_count": 5,
      "outputs": [
        {
          "output_type": "stream",
          "name": "stdout",
          "text": [
            "--2021-12-27 13:05:55--  https://github.com/named-entity/hse-nlp/raw/master/4th_year/Project/dev_cats.txt\n",
            "Resolving github.com (github.com)... 192.30.255.112\n",
            "Connecting to github.com (github.com)|192.30.255.112|:443... connected.\n",
            "HTTP request sent, awaiting response... 302 Found\n",
            "Location: https://raw.githubusercontent.com/named-entity/hse-nlp/master/4th_year/Project/dev_cats.txt [following]\n",
            "--2021-12-27 13:05:55--  https://raw.githubusercontent.com/named-entity/hse-nlp/master/4th_year/Project/dev_cats.txt\n",
            "Resolving raw.githubusercontent.com (raw.githubusercontent.com)... 185.199.108.133, 185.199.109.133, 185.199.110.133, ...\n",
            "Connecting to raw.githubusercontent.com (raw.githubusercontent.com)|185.199.108.133|:443... connected.\n",
            "HTTP request sent, awaiting response... 200 OK\n",
            "Length: 7400 (7.2K) [text/plain]\n",
            "Saving to: ‘dev_cats.txt’\n",
            "\n",
            "dev_cats.txt        100%[===================>]   7.23K  --.-KB/s    in 0.001s  \n",
            "\n",
            "2021-12-27 13:05:55 (8.58 MB/s) - ‘dev_cats.txt’ saved [7400/7400]\n",
            "\n",
            "--2021-12-27 13:05:56--  https://github.com/named-entity/hse-nlp/raw/master/4th_year/Project/dev_pred_cats.txt\n",
            "Resolving github.com (github.com)... 192.30.255.113\n",
            "Connecting to github.com (github.com)|192.30.255.113|:443... connected.\n",
            "HTTP request sent, awaiting response... 302 Found\n",
            "Location: https://raw.githubusercontent.com/named-entity/hse-nlp/master/4th_year/Project/dev_pred_cats.txt [following]\n",
            "--2021-12-27 13:05:56--  https://raw.githubusercontent.com/named-entity/hse-nlp/master/4th_year/Project/dev_pred_cats.txt\n",
            "Resolving raw.githubusercontent.com (raw.githubusercontent.com)... 185.199.108.133, 185.199.109.133, 185.199.110.133, ...\n",
            "Connecting to raw.githubusercontent.com (raw.githubusercontent.com)|185.199.108.133|:443... connected.\n",
            "HTTP request sent, awaiting response... 200 OK\n",
            "Length: 7030 (6.9K) [text/plain]\n",
            "Saving to: ‘dev_pred_cats.txt’\n",
            "\n",
            "dev_pred_cats.txt   100%[===================>]   6.87K  --.-KB/s    in 0s      \n",
            "\n",
            "2021-12-27 13:05:56 (60.1 MB/s) - ‘dev_pred_cats.txt’ saved [7030/7030]\n",
            "\n"
          ]
        }
      ]
    },
    {
      "cell_type": "code",
      "source": [
        "def get_cat_sentiment(asp_cats):\n",
        "      CATEGORIES = ['Whole', 'Interior', 'Service', 'Food', 'Price']\n",
        "      \n",
        "      texts = set(asp_cats['text_id'])\n",
        "      for text in texts:\n",
        "        temp = asp_cats[asp_cats['text_id'] == text].to_dict('records')\n",
        "        asp_counter = defaultdict(Counter)\n",
        "        for row in temp:\n",
        "            asp_counter[row['category']][row['sentiment']] += 1\n",
        "       \n",
        "        for c in CATEGORIES:\n",
        "            if not asp_counter[c]:\n",
        "                s = 'absence'\n",
        "            elif len(asp_counter[c]) == 1:\n",
        "                s = asp_counter[c].most_common(1)[0][0]\n",
        "                \n",
        "            else:\n",
        "                pos_score = 0\n",
        "                neg_score = 0\n",
        "                neu_score = 0\n",
        "                total = 0\n",
        "                for sent, count in asp_counter[c].items():\n",
        "                  total += count\n",
        "                  if sent == 'positive':\n",
        "                    pos_score += count\n",
        "                  elif sent == 'negative':\n",
        "                    neg_score += count\n",
        "                  elif sent == 'neutral':\n",
        "                    neu_score += count\n",
        "                \n",
        "                if pos_score/total > 0.6:\n",
        "                  s = 'positive'\n",
        "                elif neg_score/total > 0.6:\n",
        "                  s = 'negative'\n",
        "                elif neu_score/total > 0.6:\n",
        "                  s = 'neutral'\n",
        "                \n",
        "                else:\n",
        "                  s = 'both'\n",
        "\n",
        "            yield text, c, s"
      ],
      "metadata": {
        "id": "EH9S3w6KZx0l"
      },
      "execution_count": 6,
      "outputs": []
    },
    {
      "cell_type": "code",
      "source": [
        "with open('our_dev_pred_cats.txt', 'w') as f:\n",
        "        for idx, c, s in get_cat_sentiment(pred_asp):\n",
        "            print(idx, c, s, sep=\"\\t\", file=f)"
      ],
      "metadata": {
        "id": "PCot7EhsZ6KF"
      },
      "execution_count": 7,
      "outputs": []
    },
    {
      "cell_type": "code",
      "source": [
        "test = pd.read_csv('our_dev_pred_cats.txt', delimiter='\\t', names=['text_id', 'cat', 'sent'])"
      ],
      "metadata": {
        "id": "KLW-pPaAACrw"
      },
      "execution_count": 10,
      "outputs": []
    },
    {
      "cell_type": "code",
      "source": [
        "test"
      ],
      "metadata": {
        "colab": {
          "base_uri": "https://localhost:8080/",
          "height": 424
        },
        "id": "byLi2JZcAJ7Q",
        "outputId": "8ec05951-0767-492c-ceae-2172eb05ea47"
      },
      "execution_count": 11,
      "outputs": [
        {
          "output_type": "execute_result",
          "data": {
            "text/html": [
              "\n",
              "  <div id=\"df-aad25702-da7b-48f2-bb2c-82300b5c62ea\">\n",
              "    <div class=\"colab-df-container\">\n",
              "      <div>\n",
              "<style scoped>\n",
              "    .dataframe tbody tr th:only-of-type {\n",
              "        vertical-align: middle;\n",
              "    }\n",
              "\n",
              "    .dataframe tbody tr th {\n",
              "        vertical-align: top;\n",
              "    }\n",
              "\n",
              "    .dataframe thead th {\n",
              "        text-align: right;\n",
              "    }\n",
              "</style>\n",
              "<table border=\"1\" class=\"dataframe\">\n",
              "  <thead>\n",
              "    <tr style=\"text-align: right;\">\n",
              "      <th></th>\n",
              "      <th>text_id</th>\n",
              "      <th>cat</th>\n",
              "      <th>sent</th>\n",
              "    </tr>\n",
              "  </thead>\n",
              "  <tbody>\n",
              "    <tr>\n",
              "      <th>0</th>\n",
              "      <td>9216</td>\n",
              "      <td>Whole</td>\n",
              "      <td>negative</td>\n",
              "    </tr>\n",
              "    <tr>\n",
              "      <th>1</th>\n",
              "      <td>9216</td>\n",
              "      <td>Interior</td>\n",
              "      <td>negative</td>\n",
              "    </tr>\n",
              "    <tr>\n",
              "      <th>2</th>\n",
              "      <td>9216</td>\n",
              "      <td>Service</td>\n",
              "      <td>negative</td>\n",
              "    </tr>\n",
              "    <tr>\n",
              "      <th>3</th>\n",
              "      <td>9216</td>\n",
              "      <td>Food</td>\n",
              "      <td>negative</td>\n",
              "    </tr>\n",
              "    <tr>\n",
              "      <th>4</th>\n",
              "      <td>9216</td>\n",
              "      <td>Price</td>\n",
              "      <td>absence</td>\n",
              "    </tr>\n",
              "    <tr>\n",
              "      <th>...</th>\n",
              "      <td>...</td>\n",
              "      <td>...</td>\n",
              "      <td>...</td>\n",
              "    </tr>\n",
              "    <tr>\n",
              "      <th>350</th>\n",
              "      <td>13823</td>\n",
              "      <td>Whole</td>\n",
              "      <td>neutral</td>\n",
              "    </tr>\n",
              "    <tr>\n",
              "      <th>351</th>\n",
              "      <td>13823</td>\n",
              "      <td>Interior</td>\n",
              "      <td>absence</td>\n",
              "    </tr>\n",
              "    <tr>\n",
              "      <th>352</th>\n",
              "      <td>13823</td>\n",
              "      <td>Service</td>\n",
              "      <td>neutral</td>\n",
              "    </tr>\n",
              "    <tr>\n",
              "      <th>353</th>\n",
              "      <td>13823</td>\n",
              "      <td>Food</td>\n",
              "      <td>neutral</td>\n",
              "    </tr>\n",
              "    <tr>\n",
              "      <th>354</th>\n",
              "      <td>13823</td>\n",
              "      <td>Price</td>\n",
              "      <td>neutral</td>\n",
              "    </tr>\n",
              "  </tbody>\n",
              "</table>\n",
              "<p>355 rows × 3 columns</p>\n",
              "</div>\n",
              "      <button class=\"colab-df-convert\" onclick=\"convertToInteractive('df-aad25702-da7b-48f2-bb2c-82300b5c62ea')\"\n",
              "              title=\"Convert this dataframe to an interactive table.\"\n",
              "              style=\"display:none;\">\n",
              "        \n",
              "  <svg xmlns=\"http://www.w3.org/2000/svg\" height=\"24px\"viewBox=\"0 0 24 24\"\n",
              "       width=\"24px\">\n",
              "    <path d=\"M0 0h24v24H0V0z\" fill=\"none\"/>\n",
              "    <path d=\"M18.56 5.44l.94 2.06.94-2.06 2.06-.94-2.06-.94-.94-2.06-.94 2.06-2.06.94zm-11 1L8.5 8.5l.94-2.06 2.06-.94-2.06-.94L8.5 2.5l-.94 2.06-2.06.94zm10 10l.94 2.06.94-2.06 2.06-.94-2.06-.94-.94-2.06-.94 2.06-2.06.94z\"/><path d=\"M17.41 7.96l-1.37-1.37c-.4-.4-.92-.59-1.43-.59-.52 0-1.04.2-1.43.59L10.3 9.45l-7.72 7.72c-.78.78-.78 2.05 0 2.83L4 21.41c.39.39.9.59 1.41.59.51 0 1.02-.2 1.41-.59l7.78-7.78 2.81-2.81c.8-.78.8-2.07 0-2.86zM5.41 20L4 18.59l7.72-7.72 1.47 1.35L5.41 20z\"/>\n",
              "  </svg>\n",
              "      </button>\n",
              "      \n",
              "  <style>\n",
              "    .colab-df-container {\n",
              "      display:flex;\n",
              "      flex-wrap:wrap;\n",
              "      gap: 12px;\n",
              "    }\n",
              "\n",
              "    .colab-df-convert {\n",
              "      background-color: #E8F0FE;\n",
              "      border: none;\n",
              "      border-radius: 50%;\n",
              "      cursor: pointer;\n",
              "      display: none;\n",
              "      fill: #1967D2;\n",
              "      height: 32px;\n",
              "      padding: 0 0 0 0;\n",
              "      width: 32px;\n",
              "    }\n",
              "\n",
              "    .colab-df-convert:hover {\n",
              "      background-color: #E2EBFA;\n",
              "      box-shadow: 0px 1px 2px rgba(60, 64, 67, 0.3), 0px 1px 3px 1px rgba(60, 64, 67, 0.15);\n",
              "      fill: #174EA6;\n",
              "    }\n",
              "\n",
              "    [theme=dark] .colab-df-convert {\n",
              "      background-color: #3B4455;\n",
              "      fill: #D2E3FC;\n",
              "    }\n",
              "\n",
              "    [theme=dark] .colab-df-convert:hover {\n",
              "      background-color: #434B5C;\n",
              "      box-shadow: 0px 1px 3px 1px rgba(0, 0, 0, 0.15);\n",
              "      filter: drop-shadow(0px 1px 2px rgba(0, 0, 0, 0.3));\n",
              "      fill: #FFFFFF;\n",
              "    }\n",
              "  </style>\n",
              "\n",
              "      <script>\n",
              "        const buttonEl =\n",
              "          document.querySelector('#df-aad25702-da7b-48f2-bb2c-82300b5c62ea button.colab-df-convert');\n",
              "        buttonEl.style.display =\n",
              "          google.colab.kernel.accessAllowed ? 'block' : 'none';\n",
              "\n",
              "        async function convertToInteractive(key) {\n",
              "          const element = document.querySelector('#df-aad25702-da7b-48f2-bb2c-82300b5c62ea');\n",
              "          const dataTable =\n",
              "            await google.colab.kernel.invokeFunction('convertToInteractive',\n",
              "                                                     [key], {});\n",
              "          if (!dataTable) return;\n",
              "\n",
              "          const docLinkHtml = 'Like what you see? Visit the ' +\n",
              "            '<a target=\"_blank\" href=https://colab.research.google.com/notebooks/data_table.ipynb>data table notebook</a>'\n",
              "            + ' to learn more about interactive tables.';\n",
              "          element.innerHTML = '';\n",
              "          dataTable['output_type'] = 'display_data';\n",
              "          await google.colab.output.renderOutput(dataTable, element);\n",
              "          const docLink = document.createElement('div');\n",
              "          docLink.innerHTML = docLinkHtml;\n",
              "          element.appendChild(docLink);\n",
              "        }\n",
              "      </script>\n",
              "    </div>\n",
              "  </div>\n",
              "  "
            ],
            "text/plain": [
              "     text_id       cat      sent\n",
              "0       9216     Whole  negative\n",
              "1       9216  Interior  negative\n",
              "2       9216   Service  negative\n",
              "3       9216      Food  negative\n",
              "4       9216     Price   absence\n",
              "..       ...       ...       ...\n",
              "350    13823     Whole   neutral\n",
              "351    13823  Interior   absence\n",
              "352    13823   Service   neutral\n",
              "353    13823      Food   neutral\n",
              "354    13823     Price   neutral\n",
              "\n",
              "[355 rows x 3 columns]"
            ]
          },
          "metadata": {},
          "execution_count": 11
        }
      ]
    },
    {
      "cell_type": "code",
      "source": [
        "import numpy as np"
      ],
      "metadata": {
        "id": "8nqIKZb8ANoV"
      },
      "execution_count": 13,
      "outputs": []
    },
    {
      "cell_type": "code",
      "source": [
        "gold = pd.read_csv('dev_cats.txt', delimiter='\\t', names=['text_id', 'cat', 'sent'])\n",
        "gold['comparison'] = np.where(gold['sent'] == test['sent'], 'True', 'False')"
      ],
      "metadata": {
        "id": "oAN69Cet_5Hw"
      },
      "execution_count": 14,
      "outputs": []
    },
    {
      "cell_type": "code",
      "source": [
        "false = gold[gold['comparison'] == 'False']\n",
        "true = gold[gold['comparison'] == 'True']"
      ],
      "metadata": {
        "id": "um4LwWWnAYEF"
      },
      "execution_count": 21,
      "outputs": []
    },
    {
      "cell_type": "code",
      "source": [
        "false['sent'].value_counts()"
      ],
      "metadata": {
        "colab": {
          "base_uri": "https://localhost:8080/"
        },
        "id": "DsW6xKDPA_qo",
        "outputId": "0736c8a2-cedc-4e61-bacc-78e6bfb6e0b9"
      },
      "execution_count": 28,
      "outputs": [
        {
          "output_type": "execute_result",
          "data": {
            "text/plain": [
              "positive    108\n",
              "absence      58\n",
              "both         37\n",
              "negative     33\n",
              "neutral       3\n",
              "Name: sent, dtype: int64"
            ]
          },
          "metadata": {},
          "execution_count": 28
        }
      ]
    },
    {
      "cell_type": "code",
      "source": [
        "true['sent'].value_counts()"
      ],
      "metadata": {
        "colab": {
          "base_uri": "https://localhost:8080/"
        },
        "id": "M6f8L53aBTyE",
        "outputId": "472e3b43-78a5-4baa-f82b-3d6fa10e9ca7"
      },
      "execution_count": 29,
      "outputs": [
        {
          "output_type": "execute_result",
          "data": {
            "text/plain": [
              "positive    106\n",
              "neutral       5\n",
              "negative      3\n",
              "absence       1\n",
              "both          1\n",
              "Name: sent, dtype: int64"
            ]
          },
          "metadata": {},
          "execution_count": 29
        }
      ]
    },
    {
      "cell_type": "code",
      "source": [
        "gold_test_cats_path = \"dev_cats.txt\"\n",
        "pred_test_cats_path = \"our_dev_pred_cats.txt\"\n",
        "with open(gold_test_cats_path) as gc, open(pred_test_cats_path) as pc:\n",
        "    gold_labels = set(gc.readlines())\n",
        "    pred_labels = set(pc.readlines())\n",
        "    print(\n",
        "        \"Overall sentiment accuracy:\",\n",
        "        len(gold_labels & pred_labels) / len(gold_labels)\n",
        "    )"
      ],
      "metadata": {
        "colab": {
          "base_uri": "https://localhost:8080/"
        },
        "id": "wG5bs9TtZ605",
        "outputId": "05385261-5b6c-45cd-e43f-163620ac29a6"
      },
      "execution_count": 8,
      "outputs": [
        {
          "output_type": "stream",
          "name": "stdout",
          "text": [
            "Overall sentiment accuracy: 0.6253521126760564\n"
          ]
        }
      ]
    },
    {
      "cell_type": "code",
      "source": [
        "gold_test_cats_path = \"dev_cats.txt\"\n",
        "pred_test_cats_path = \"dev_pred_cats.txt\"\n",
        "with open(gold_test_cats_path) as gc, open(pred_test_cats_path) as pc:\n",
        "    gold_labels = set(gc.readlines())\n",
        "    pred_labels = set(pc.readlines())\n",
        "    print(\n",
        "        \"Overall sentiment accuracy:\",\n",
        "        len(gold_labels & pred_labels) / len(gold_labels)\n",
        "    )"
      ],
      "metadata": {
        "colab": {
          "base_uri": "https://localhost:8080/"
        },
        "id": "q7PLYP0P_Ezr",
        "outputId": "751a5894-e9e0-4208-ca84-0a66e70bc75a"
      },
      "execution_count": 9,
      "outputs": [
        {
          "output_type": "stream",
          "name": "stdout",
          "text": [
            "Overall sentiment accuracy: 0.523943661971831\n"
          ]
        }
      ]
    }
  ]
}