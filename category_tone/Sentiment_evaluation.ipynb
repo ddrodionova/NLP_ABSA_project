{
  "nbformat": 4,
  "nbformat_minor": 0,
  "metadata": {
    "colab": {
      "name": "Copy of Copy of category_sentiment.ipynb",
      "provenance": [],
      "collapsed_sections": []
    },
    "kernelspec": {
      "name": "python3",
      "display_name": "Python 3"
    },
    "language_info": {
      "name": "python"
    }
  },
  "cells": [
    {
      "cell_type": "code",
      "execution_count": 1,
      "metadata": {
        "id": "meR9cJoFZn7U"
      },
      "outputs": [],
      "source": [
        "import pandas as pd\n",
        "from collections import Counter, defaultdict\n",
        "import numpy as np"
      ]
    },
    {
      "cell_type": "code",
      "source": [
        "pred_asp = pd.read_csv('our_dev_pred_aspects.txt', index_col= 0)\n",
        "pred_asp = pred_asp.rename(columns={'mention':'aspect'})"
      ],
      "metadata": {
        "id": "u0RmRKNxa1aI"
      },
      "execution_count": 2,
      "outputs": []
    },
    {
      "cell_type": "code",
      "source": [
        "pred_asp['sentiment'].value_counts()"
      ],
      "metadata": {
        "colab": {
          "base_uri": "https://localhost:8080/"
        },
        "id": "LYMIdADcbViB",
        "outputId": "37f406f9-d07b-4efc-be8a-3c3f58dcf9d2"
      },
      "execution_count": 3,
      "outputs": [
        {
          "output_type": "execute_result",
          "data": {
            "text/plain": [
              "positive    694\n",
              "neutral     315\n",
              "negative    181\n",
              "Name: sentiment, dtype: int64"
            ]
          },
          "metadata": {},
          "execution_count": 3
        }
      ]
    },
    {
      "cell_type": "code",
      "source": [
        "!wget https://github.com/named-entity/hse-nlp/raw/master/4th_year/Project/dev_cats.txt\n",
        "!wget https://github.com/named-entity/hse-nlp/raw/master/4th_year/Project/dev_pred_cats.txt\n",
        "!wget https://github.com/named-entity/hse-nlp/raw/master/4th_year/Project/dev_pred_aspects.txt"
      ],
      "metadata": {
        "colab": {
          "base_uri": "https://localhost:8080/"
        },
        "id": "Q3M5ldO25UdI",
        "outputId": "4cc47033-659b-417e-a24c-a7a0c4bd754e"
      },
      "execution_count": 4,
      "outputs": [
        {
          "output_type": "stream",
          "name": "stdout",
          "text": [
            "--2021-12-27 13:58:06--  https://github.com/named-entity/hse-nlp/raw/master/4th_year/Project/dev_cats.txt\n",
            "Resolving github.com (github.com)... 192.30.255.113\n",
            "Connecting to github.com (github.com)|192.30.255.113|:443... connected.\n",
            "HTTP request sent, awaiting response... 302 Found\n",
            "Location: https://raw.githubusercontent.com/named-entity/hse-nlp/master/4th_year/Project/dev_cats.txt [following]\n",
            "--2021-12-27 13:58:06--  https://raw.githubusercontent.com/named-entity/hse-nlp/master/4th_year/Project/dev_cats.txt\n",
            "Resolving raw.githubusercontent.com (raw.githubusercontent.com)... 185.199.111.133, 185.199.110.133, 185.199.108.133, ...\n",
            "Connecting to raw.githubusercontent.com (raw.githubusercontent.com)|185.199.111.133|:443... connected.\n",
            "HTTP request sent, awaiting response... 200 OK\n",
            "Length: 7400 (7.2K) [text/plain]\n",
            "Saving to: ‘dev_cats.txt’\n",
            "\n",
            "dev_cats.txt        100%[===================>]   7.23K  --.-KB/s    in 0s      \n",
            "\n",
            "2021-12-27 13:58:06 (68.2 MB/s) - ‘dev_cats.txt’ saved [7400/7400]\n",
            "\n",
            "--2021-12-27 13:58:06--  https://github.com/named-entity/hse-nlp/raw/master/4th_year/Project/dev_pred_cats.txt\n",
            "Resolving github.com (github.com)... 192.30.255.113\n",
            "Connecting to github.com (github.com)|192.30.255.113|:443... connected.\n",
            "HTTP request sent, awaiting response... 302 Found\n",
            "Location: https://raw.githubusercontent.com/named-entity/hse-nlp/master/4th_year/Project/dev_pred_cats.txt [following]\n",
            "--2021-12-27 13:58:06--  https://raw.githubusercontent.com/named-entity/hse-nlp/master/4th_year/Project/dev_pred_cats.txt\n",
            "Resolving raw.githubusercontent.com (raw.githubusercontent.com)... 185.199.111.133, 185.199.110.133, 185.199.108.133, ...\n",
            "Connecting to raw.githubusercontent.com (raw.githubusercontent.com)|185.199.111.133|:443... connected.\n",
            "HTTP request sent, awaiting response... 200 OK\n",
            "Length: 7030 (6.9K) [text/plain]\n",
            "Saving to: ‘dev_pred_cats.txt’\n",
            "\n",
            "dev_pred_cats.txt   100%[===================>]   6.87K  --.-KB/s    in 0s      \n",
            "\n",
            "2021-12-27 13:58:06 (55.6 MB/s) - ‘dev_pred_cats.txt’ saved [7030/7030]\n",
            "\n",
            "--2021-12-27 13:58:06--  https://github.com/named-entity/hse-nlp/raw/master/4th_year/Project/dev_pred_aspects.txt\n",
            "Resolving github.com (github.com)... 192.30.255.113\n",
            "Connecting to github.com (github.com)|192.30.255.113|:443... connected.\n",
            "HTTP request sent, awaiting response... 302 Found\n",
            "Location: https://raw.githubusercontent.com/named-entity/hse-nlp/master/4th_year/Project/dev_pred_aspects.txt [following]\n",
            "--2021-12-27 13:58:07--  https://raw.githubusercontent.com/named-entity/hse-nlp/master/4th_year/Project/dev_pred_aspects.txt\n",
            "Resolving raw.githubusercontent.com (raw.githubusercontent.com)... 185.199.111.133, 185.199.109.133, 185.199.110.133, ...\n",
            "Connecting to raw.githubusercontent.com (raw.githubusercontent.com)|185.199.111.133|:443... connected.\n",
            "HTTP request sent, awaiting response... 200 OK\n",
            "Length: 79631 (78K) [text/plain]\n",
            "Saving to: ‘dev_pred_aspects.txt’\n",
            "\n",
            "dev_pred_aspects.tx 100%[===================>]  77.76K  --.-KB/s    in 0.007s  \n",
            "\n",
            "2021-12-27 13:58:07 (11.1 MB/s) - ‘dev_pred_aspects.txt’ saved [79631/79631]\n",
            "\n"
          ]
        }
      ]
    },
    {
      "cell_type": "code",
      "source": [
        "def get_cat_sentiment(asp_cats):\n",
        "      CATEGORIES = ['Whole', 'Interior', 'Service', 'Food', 'Price']\n",
        "      \n",
        "      texts = set(asp_cats['text_id'])\n",
        "      for text in texts:\n",
        "        temp = asp_cats[asp_cats['text_id'] == text].to_dict('records')\n",
        "        asp_counter = defaultdict(Counter)\n",
        "        for row in temp:\n",
        "            asp_counter[row['category']][row['sentiment']] += 1\n",
        "       \n",
        "        for c in CATEGORIES:\n",
        "            if not asp_counter[c]:\n",
        "                s = 'absence'\n",
        "            elif len(asp_counter[c]) == 1:\n",
        "                s = asp_counter[c].most_common(1)[0][0]\n",
        "                \n",
        "            else:\n",
        "                pos_score = 0\n",
        "                neg_score = 0\n",
        "                neu_score = 0\n",
        "                total = 0\n",
        "                for sent, count in asp_counter[c].items():\n",
        "                  total += count\n",
        "                  if sent == 'positive':\n",
        "                    pos_score += count\n",
        "                  elif sent == 'negative':\n",
        "                    neg_score += count\n",
        "                  elif sent == 'neutral':\n",
        "                    neu_score += count\n",
        "                \n",
        "                if pos_score/total > 0.6:\n",
        "                  s = 'positive'\n",
        "                elif neg_score/total > 0.6:\n",
        "                  s = 'negative'\n",
        "                elif neu_score/total > 0.6:\n",
        "                  s = 'neutral'\n",
        "                \n",
        "                else:\n",
        "                  s = 'both'\n",
        "\n",
        "            yield text, c, s"
      ],
      "metadata": {
        "id": "EH9S3w6KZx0l"
      },
      "execution_count": 5,
      "outputs": []
    },
    {
      "cell_type": "markdown",
      "source": [
        "### На наших данных"
      ],
      "metadata": {
        "id": "TgQis45uJWSn"
      }
    },
    {
      "cell_type": "code",
      "source": [
        "with open('our_dev_pred_cats.txt', 'w') as f:\n",
        "        for idx, c, s in get_cat_sentiment(pred_asp):\n",
        "            print(idx, c, s, sep=\"\\t\", file=f)"
      ],
      "metadata": {
        "id": "PCot7EhsZ6KF"
      },
      "execution_count": 6,
      "outputs": []
    },
    {
      "cell_type": "code",
      "source": [
        "gold_test_cats_path = \"dev_cats.txt\"\n",
        "pred_test_cats_path = \"our_dev_pred_cats.txt\"\n",
        "with open(gold_test_cats_path) as gc, open(pred_test_cats_path) as pc:\n",
        "    gold_labels = set(gc.readlines())\n",
        "    pred_labels = set(pc.readlines())\n",
        "    print(\n",
        "        \"Overall sentiment accuracy:\",\n",
        "        len(gold_labels & pred_labels) / len(gold_labels)\n",
        "    )"
      ],
      "metadata": {
        "colab": {
          "base_uri": "https://localhost:8080/"
        },
        "id": "W4LCMmlyJcUR",
        "outputId": "cb1e5596-8d53-4556-b089-2695f513d08a"
      },
      "execution_count": 7,
      "outputs": [
        {
          "output_type": "stream",
          "name": "stdout",
          "text": [
            "Overall sentiment accuracy: 0.6253521126760564\n"
          ]
        }
      ]
    },
    {
      "cell_type": "markdown",
      "source": [
        "Улучшилось по сравнению с бейслайном на около 0.12"
      ],
      "metadata": {
        "id": "0H8W-cSPKkCh"
      }
    },
    {
      "cell_type": "markdown",
      "source": [
        "### На данных из бейслайна"
      ],
      "metadata": {
        "id": "AQwtHJpfJc-u"
      }
    },
    {
      "cell_type": "code",
      "source": [
        "their_asp = pd.read_csv('dev_pred_aspects.txt', delimiter='\\t', names=['text_id', 'category', 'mention', 'start', 'end', 'sentiment'])"
      ],
      "metadata": {
        "id": "x6HlA3pBI5yA"
      },
      "execution_count": 8,
      "outputs": []
    },
    {
      "cell_type": "code",
      "source": [
        "with open('their_dev_pred_cats.txt', 'w') as f:\n",
        "        for idx, c, s in get_cat_sentiment(their_asp):\n",
        "            print(idx, c, s, sep=\"\\t\", file=f)"
      ],
      "metadata": {
        "id": "Aa54KL-5I-Cv"
      },
      "execution_count": 9,
      "outputs": []
    },
    {
      "cell_type": "code",
      "source": [
        "gold_test_cats_path = \"dev_cats.txt\"\n",
        "pred_test_cats_path = \"dev_pred_cats.txt\"\n",
        "with open(gold_test_cats_path) as gc, open(pred_test_cats_path) as pc:\n",
        "    gold_labels = set(gc.readlines())\n",
        "    pred_labels = set(pc.readlines())\n",
        "    print(\n",
        "        \"Overall sentiment accuracy:\",\n",
        "        len(gold_labels & pred_labels) / len(gold_labels)\n",
        "    )"
      ],
      "metadata": {
        "colab": {
          "base_uri": "https://localhost:8080/"
        },
        "id": "q7PLYP0P_Ezr",
        "outputId": "ce5801b9-b9c7-4a74-dca7-55a7d3e2461b"
      },
      "execution_count": 10,
      "outputs": [
        {
          "output_type": "stream",
          "name": "stdout",
          "text": [
            "Overall sentiment accuracy: 0.523943661971831\n"
          ]
        }
      ]
    },
    {
      "cell_type": "code",
      "source": [
        "gold_test_cats_path = \"dev_cats.txt\"\n",
        "pred_test_cats_path = \"their_dev_pred_cats.txt\"\n",
        "with open(gold_test_cats_path) as gc, open(pred_test_cats_path) as pc:\n",
        "    gold_labels = set(gc.readlines())\n",
        "    pred_labels = set(pc.readlines())\n",
        "    print(\n",
        "        \"Overall sentiment accuracy:\",\n",
        "        len(gold_labels & pred_labels) / len(gold_labels)\n",
        "    )"
      ],
      "metadata": {
        "colab": {
          "base_uri": "https://localhost:8080/"
        },
        "id": "wG5bs9TtZ605",
        "outputId": "ecda48c7-69a1-4d89-d2e5-1a931d11b0b6"
      },
      "execution_count": 11,
      "outputs": [
        {
          "output_type": "stream",
          "name": "stdout",
          "text": [
            "Overall sentiment accuracy: 0.7070422535211267\n"
          ]
        }
      ]
    },
    {
      "cell_type": "markdown",
      "source": [
        "Улучшилось на около 0.18"
      ],
      "metadata": {
        "id": "rZq8Gvn4Jz48"
      }
    },
    {
      "cell_type": "markdown",
      "source": [
        "### Распределение ошибок"
      ],
      "metadata": {
        "id": "u5JML_h5KOcb"
      }
    },
    {
      "cell_type": "code",
      "source": [
        "test = pd.read_csv('our_dev_pred_cats.txt', delimiter='\\t', names=['text_id', 'cat', 'sent'])"
      ],
      "metadata": {
        "id": "KLW-pPaAACrw"
      },
      "execution_count": 12,
      "outputs": []
    },
    {
      "cell_type": "code",
      "source": [
        "gold = pd.read_csv('dev_cats.txt', delimiter='\\t', names=['text_id', 'cat', 'sent'])\n",
        "gold['comparison'] = np.where(gold['sent'] == test['sent'], 'True', 'False')"
      ],
      "metadata": {
        "id": "oAN69Cet_5Hw"
      },
      "execution_count": 13,
      "outputs": []
    },
    {
      "cell_type": "code",
      "source": [
        "false = gold[gold['comparison'] == 'False']\n",
        "true = gold[gold['comparison'] == 'True']"
      ],
      "metadata": {
        "id": "um4LwWWnAYEF"
      },
      "execution_count": 14,
      "outputs": []
    },
    {
      "cell_type": "code",
      "source": [
        "false['sent'].value_counts()"
      ],
      "metadata": {
        "colab": {
          "base_uri": "https://localhost:8080/"
        },
        "id": "DsW6xKDPA_qo",
        "outputId": "2044edb0-b950-4ff4-eaa7-c40f20a6b336"
      },
      "execution_count": 15,
      "outputs": [
        {
          "output_type": "execute_result",
          "data": {
            "text/plain": [
              "positive    108\n",
              "absence      58\n",
              "both         37\n",
              "negative     33\n",
              "neutral       3\n",
              "Name: sent, dtype: int64"
            ]
          },
          "metadata": {},
          "execution_count": 15
        }
      ]
    },
    {
      "cell_type": "code",
      "source": [
        "true['sent'].value_counts()"
      ],
      "metadata": {
        "colab": {
          "base_uri": "https://localhost:8080/"
        },
        "id": "M6f8L53aBTyE",
        "outputId": "0e2ed1f9-f101-442e-bb39-bc5e607a7cd6"
      },
      "execution_count": 16,
      "outputs": [
        {
          "output_type": "execute_result",
          "data": {
            "text/plain": [
              "positive    106\n",
              "neutral       5\n",
              "negative      3\n",
              "both          1\n",
              "absence       1\n",
              "Name: sent, dtype: int64"
            ]
          },
          "metadata": {},
          "execution_count": 16
        }
      ]
    },
    {
      "cell_type": "code",
      "source": [
        ""
      ],
      "metadata": {
        "id": "Ef5sVgR7D0Lz"
      },
      "execution_count": null,
      "outputs": []
    }
  ]
}
