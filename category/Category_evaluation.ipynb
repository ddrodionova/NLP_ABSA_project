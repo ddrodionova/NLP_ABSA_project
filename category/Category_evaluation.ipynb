{
 "cells": [
  {
   "cell_type": "code",
   "execution_count": 56,
   "metadata": {},
   "outputs": [],
   "source": [
    "gold_test_path = \"dev_aspects.txt\"\n",
    "algs = ['lbfgs', 'l2sgd', 'ap', 'pa', 'arow']\n",
    "pred_test_path = f\"pred_asp_{algs[0]}_dict.txt\""
   ]
  },
  {
   "cell_type": "markdown",
   "metadata": {},
   "source": [
    "# Оценка 1: accuracy по выделению упоминаний с категориями"
   ]
  },
  {
   "cell_type": "code",
   "execution_count": 57,
   "metadata": {},
   "outputs": [],
   "source": [
    "from collections import defaultdict"
   ]
  },
  {
   "cell_type": "code",
   "execution_count": 58,
   "metadata": {},
   "outputs": [],
   "source": [
    "gold_aspect_cats = {}\n",
    "with open(gold_test_path) as fg:\n",
    "    for line in fg:\n",
    "        line = line.rstrip('\\r\\n').split('\\t')\n",
    "        if line[0] not in gold_aspect_cats:\n",
    "            gold_aspect_cats[line[0]] = {\"starts\":[], \"ends\":[], \"cats\":[], \"sents\":[]}\n",
    "        gold_aspect_cats[line[0]][\"starts\"].append(int(line[3]))\n",
    "        gold_aspect_cats[line[0]][\"ends\"].append(int(line[4]))\n",
    "        gold_aspect_cats[line[0]][\"cats\"].append(line[1])\n",
    "        gold_aspect_cats[line[0]][\"sents\"].append(line[5])"
   ]
  },
  {
   "cell_type": "code",
   "execution_count": 59,
   "metadata": {},
   "outputs": [],
   "source": [
    "full_match, partial_match, full_cat_match, partial_cat_match = 0, 0, 0, 0\n",
    "total = 0\n",
    "fully_matched_pairs = []\n",
    "partially_matched_pairs = []\n",
    "with open(pred_test_path) as fp:\n",
    "    for line in fp:    \n",
    "        total += 1\n",
    "        line = line.rstrip('\\r\\n').split('\\t')\n",
    "        start, end = int(line[3]), int(line[4])\n",
    "        category = line[1]\n",
    "        doc_gold_aspect_cats = gold_aspect_cats[line[0]]\n",
    "        if start in doc_gold_aspect_cats[\"starts\"]:\n",
    "            i = doc_gold_aspect_cats[\"starts\"].index(start)\n",
    "            if doc_gold_aspect_cats[\"ends\"][i] == end:\n",
    "                full_match += 1\n",
    "                if doc_gold_aspect_cats[\"cats\"][i] == category:\n",
    "                    full_cat_match += 1\n",
    "                else:\n",
    "                    partial_cat_match += 1\n",
    "                fully_matched_pairs.append(\n",
    "                    (\n",
    "                        [\n",
    "                            doc_gold_aspect_cats[\"starts\"][i], \n",
    "                            doc_gold_aspect_cats[\"ends\"][i], \n",
    "                            doc_gold_aspect_cats[\"cats\"][i],\n",
    "                            doc_gold_aspect_cats[\"sents\"][i]\n",
    "                        ],\n",
    "                        line\n",
    "                    )\n",
    "                )\n",
    "                continue\n",
    "        for s_pos in doc_gold_aspect_cats[\"starts\"]:\n",
    "            if start <= s_pos:\n",
    "                i = doc_gold_aspect_cats[\"starts\"].index(s_pos)\n",
    "                if doc_gold_aspect_cats[\"ends\"][i] == end:\n",
    "                    partial_match += 1\n",
    "                    partially_matched_pairs.append(\n",
    "                        (\n",
    "                            [\n",
    "                                doc_gold_aspect_cats[\"starts\"][i], \n",
    "                                doc_gold_aspect_cats[\"ends\"][i], \n",
    "                                doc_gold_aspect_cats[\"cats\"][i],\n",
    "                                doc_gold_aspect_cats[\"sents\"][i]\n",
    "                            ],\n",
    "                            line\n",
    "                        )\n",
    "                    )\n",
    "                    if doc_gold_aspect_cats[\"cats\"][i] == category:\n",
    "                        partial_cat_match += 1\n",
    "                    continue\n",
    "                matched = False\n",
    "                for e_pos in doc_gold_aspect_cats[\"ends\"][i:]:\n",
    "                    if s_pos <= end <= e_pos:\n",
    "                        partial_match += 1\n",
    "                        partially_matched_pairs.append(\n",
    "                            (\n",
    "                                [\n",
    "                                    doc_gold_aspect_cats[\"starts\"][i], \n",
    "                                    doc_gold_aspect_cats[\"ends\"][i], \n",
    "                                    doc_gold_aspect_cats[\"cats\"][i],\n",
    "                                    doc_gold_aspect_cats[\"sents\"][i]\n",
    "                                ],\n",
    "                                line\n",
    "                            )\n",
    "                        )\n",
    "                        if doc_gold_aspect_cats[\"cats\"][i] == category:\n",
    "                            partial_cat_match += 1\n",
    "                        matched = True\n",
    "                        break\n",
    "                if matched:\n",
    "                    break\n",
    "            if start > s_pos:\n",
    "                i = doc_gold_aspect_cats[\"starts\"].index(s_pos)\n",
    "                if start < doc_gold_aspect_cats[\"ends\"][i] <= end:\n",
    "                    partial_match += 1\n",
    "                    partially_matched_pairs.append(\n",
    "                        (\n",
    "                            [\n",
    "                                doc_gold_aspect_cats[\"starts\"][i], \n",
    "                                doc_gold_aspect_cats[\"ends\"][i], \n",
    "                                doc_gold_aspect_cats[\"cats\"][i],\n",
    "                                doc_gold_aspect_cats[\"sents\"][i]\n",
    "                            ],\n",
    "                            line\n",
    "                        )\n",
    "                    )\n",
    "                    if doc_gold_aspect_cats[\"cats\"][i] == category:\n",
    "                        partial_cat_match += 1\n",
    "                    break"
   ]
  },
  {
   "cell_type": "code",
   "execution_count": 60,
   "metadata": {},
   "outputs": [],
   "source": [
    "gold_size = sum([len(gold_aspect_cats[x][\"cats\"]) for x in gold_aspect_cats])"
   ]
  },
  {
   "cell_type": "code",
   "execution_count": null,
   "metadata": {},
   "outputs": [],
   "source": [
    "Реззультаты для разных"
   ]
  },
  {
   "cell_type": "code",
   "execution_count": 61,
   "metadata": {},
   "outputs": [
    {
     "name": "stdout",
     "output_type": "stream",
     "text": [
      "\n",
      "Full match precision: 0.7162534435261708\n",
      "Full match recall: 0.6554621848739496\n",
      "Partial match ratio in pred: 0.8282828282828283\n",
      "Full category accuracy: 0.6483011937557392\n",
      "Partial category accuracy: 0.7943067033976124\n",
      "\n"
     ]
    }
   ],
   "source": [
    "#С tf-idf и w2v dict lbfgs\n",
    "print(f\"\"\"\n",
    "Full match precision: {full_match / total}\n",
    "Full match recall: {full_match / gold_size}\n",
    "Partial match ratio in pred: {(full_match + partial_match)  / total}\n",
    "Full category accuracy: {full_cat_match / total}\n",
    "Partial category accuracy: {(full_cat_match + partial_cat_match) / total}\n",
    "\"\"\")"
   ]
  },
  {
   "cell_type": "code",
   "execution_count": 6,
   "metadata": {},
   "outputs": [
    {
     "name": "stdout",
     "output_type": "stream",
     "text": [
      "\n",
      "Full match precision: 0.7906724511930586\n",
      "Full match recall: 0.6126050420168068\n",
      "Partial match ratio in pred: 0.8893709327548807\n",
      "Full category accuracy: 0.7657266811279827\n",
      "Partial category accuracy: 0.8828633405639913\n",
      "\n"
     ]
    }
   ],
   "source": [
    "#С tf-idf и w2v lbfgs\n",
    "print(f\"\"\"\n",
    "Full match precision: {full_match / total}\n",
    "Full match recall: {full_match / gold_size}\n",
    "Partial match ratio in pred: {(full_match + partial_match)  / total}\n",
    "Full category accuracy: {full_cat_match / total}\n",
    "Partial category accuracy: {(full_cat_match + partial_cat_match) / total}\n",
    "\"\"\")"
   ]
  },
  {
   "cell_type": "code",
   "execution_count": 55,
   "metadata": {},
   "outputs": [
    {
     "name": "stdout",
     "output_type": "stream",
     "text": [
      "\n",
      "Full match precision: 0.7145421903052065\n",
      "Full match recall: 0.66890756302521\n",
      "Partial match ratio in pred: 0.8276481149012568\n",
      "Full category accuracy: 0.6490125673249552\n",
      "Partial category accuracy: 0.7953321364452424\n",
      "\n"
     ]
    }
   ],
   "source": [
    "#С tf-idf и w2v dict l2sgd\n",
    "print(f\"\"\"\n",
    "Full match precision: {full_match / total}\n",
    "Full match recall: {full_match / gold_size}\n",
    "Partial match ratio in pred: {(full_match + partial_match)  / total}\n",
    "Full category accuracy: {full_cat_match / total}\n",
    "Partial category accuracy: {(full_cat_match + partial_cat_match) / total}\n",
    "\"\"\")"
   ]
  },
  {
   "cell_type": "code",
   "execution_count": 12,
   "metadata": {},
   "outputs": [
    {
     "name": "stdout",
     "output_type": "stream",
     "text": [
      "\n",
      "Full match precision: 0.7986270022883295\n",
      "Full match recall: 0.5865546218487395\n",
      "Partial match ratio in pred: 0.8947368421052632\n",
      "Full category accuracy: 0.7768878718535469\n",
      "Partial category accuracy: 0.8901601830663616\n",
      "\n"
     ]
    }
   ],
   "source": [
    "#С tf-idf и w2v l2sgd\n",
    "print(f\"\"\"\n",
    "Full match precision: {full_match / total}\n",
    "Full match recall: {full_match / gold_size}\n",
    "Partial match ratio in pred: {(full_match + partial_match)  / total}\n",
    "Full category accuracy: {full_cat_match / total}\n",
    "Partial category accuracy: {(full_cat_match + partial_cat_match) / total}\n",
    "\"\"\")"
   ]
  },
  {
   "cell_type": "code",
   "execution_count": 49,
   "metadata": {},
   "outputs": [
    {
     "name": "stdout",
     "output_type": "stream",
     "text": [
      "\n",
      "Full match precision: 0.6966783216783217\n",
      "Full match recall: 0.6697478991596638\n",
      "Partial match ratio in pred: 0.8164335664335665\n",
      "Full category accuracy: 0.6346153846153846\n",
      "Partial category accuracy: 0.791958041958042\n",
      "\n"
     ]
    }
   ],
   "source": [
    "#С tf-idf и w2v dict ap\n",
    "#худший\n",
    "print(f\"\"\"\n",
    "Full match precision: {full_match / total}\n",
    "Full match recall: {full_match / gold_size}\n",
    "Partial match ratio in pred: {(full_match + partial_match)  / total}\n",
    "Full category accuracy: {full_cat_match / total}\n",
    "Partial category accuracy: {(full_cat_match + partial_cat_match) / total}\n",
    "\"\"\")"
   ]
  },
  {
   "cell_type": "code",
   "execution_count": 18,
   "metadata": {},
   "outputs": [
    {
     "name": "stdout",
     "output_type": "stream",
     "text": [
      "\n",
      "Full match precision: 0.7494969818913481\n",
      "Full match recall: 0.6260504201680672\n",
      "Partial match ratio in pred: 0.8702213279678068\n",
      "Full category accuracy: 0.7253521126760564\n",
      "Partial category accuracy: 0.8661971830985915\n",
      "\n"
     ]
    }
   ],
   "source": [
    "#С tf-idf и w2v ap\n",
    "print(f\"\"\"\n",
    "Full match precision: {full_match / total}\n",
    "Full match recall: {full_match / gold_size}\n",
    "Partial match ratio in pred: {(full_match + partial_match)  / total}\n",
    "Full category accuracy: {full_cat_match / total}\n",
    "Partial category accuracy: {(full_cat_match + partial_cat_match) / total}\n",
    "\"\"\")"
   ]
  },
  {
   "cell_type": "code",
   "execution_count": 43,
   "metadata": {},
   "outputs": [
    {
     "name": "stdout",
     "output_type": "stream",
     "text": [
      "\n",
      "Full match precision: 0.6963394342762064\n",
      "Full match recall: 0.7033613445378152\n",
      "Partial match ratio in pred: 0.8078202995008319\n",
      "Full category accuracy: 0.6397670549084858\n",
      "Partial category accuracy: 0.7861896838602329\n",
      "\n"
     ]
    }
   ],
   "source": [
    "#С tf-idf и w2v dict pa\n",
    "print(f\"\"\"\n",
    "Full match precision: {full_match / total}\n",
    "Full match recall: {full_match / gold_size}\n",
    "Partial match ratio in pred: {(full_match + partial_match)  / total}\n",
    "Full category accuracy: {full_cat_match / total}\n",
    "Partial category accuracy: {(full_cat_match + partial_cat_match) / total}\n",
    "\"\"\")"
   ]
  },
  {
   "cell_type": "code",
   "execution_count": 24,
   "metadata": {},
   "outputs": [
    {
     "name": "stdout",
     "output_type": "stream",
     "text": [
      "\n",
      "Full match precision: 0.7459867799811143\n",
      "Full match recall: 0.6638655462184874\n",
      "Partial match ratio in pred: 0.8574126534466477\n",
      "Full category accuracy: 0.7186024551463644\n",
      "Partial category accuracy: 0.8517469310670444\n",
      "\n"
     ]
    }
   ],
   "source": [
    "#С tf-idf и w2v pa\n",
    "print(f\"\"\"\n",
    "Full match precision: {full_match / total}\n",
    "Full match recall: {full_match / gold_size}\n",
    "Partial match ratio in pred: {(full_match + partial_match)  / total}\n",
    "Full category accuracy: {full_cat_match / total}\n",
    "Partial category accuracy: {(full_cat_match + partial_cat_match) / total}\n",
    "\"\"\")"
   ]
  },
  {
   "cell_type": "code",
   "execution_count": 37,
   "metadata": {},
   "outputs": [
    {
     "name": "stdout",
     "output_type": "stream",
     "text": [
      "\n",
      "Full match precision: 0.5694029850746268\n",
      "Full match recall: 0.6411764705882353\n",
      "Partial match ratio in pred: 0.7328358208955223\n",
      "Full category accuracy: 0.508955223880597\n",
      "Partial category accuracy: 0.6865671641791045\n",
      "\n"
     ]
    }
   ],
   "source": [
    "#С tf-idf и w2v arow dict\n",
    "#худший\n",
    "print(f\"\"\"\n",
    "Full match precision: {full_match / total}\n",
    "Full match recall: {full_match / gold_size}\n",
    "Partial match ratio in pred: {(full_match + partial_match)  / total}\n",
    "Full category accuracy: {full_cat_match / total}\n",
    "Partial category accuracy: {(full_cat_match + partial_cat_match) / total}\n",
    "\"\"\")"
   ]
  },
  {
   "cell_type": "code",
   "execution_count": 31,
   "metadata": {},
   "outputs": [
    {
     "name": "stdout",
     "output_type": "stream",
     "text": [
      "\n",
      "Full match precision: 0.6182608695652174\n",
      "Full match recall: 0.5974789915966386\n",
      "Partial match ratio in pred: 0.7930434782608695\n",
      "Full category accuracy: 0.5886956521739131\n",
      "Partial category accuracy: 0.7547826086956522\n",
      "\n"
     ]
    }
   ],
   "source": [
    "#С tf-idf и w2v arow\n",
    "#худший\n",
    "print(f\"\"\"\n",
    "Full match precision: {full_match / total}\n",
    "Full match recall: {full_match / gold_size}\n",
    "Partial match ratio in pred: {(full_match + partial_match)  / total}\n",
    "Full category accuracy: {full_cat_match / total}\n",
    "Partial category accuracy: {(full_cat_match + partial_cat_match) / total}\n",
    "\"\"\")"
   ]
  },
  {
   "cell_type": "code",
   "execution_count": 28,
   "metadata": {},
   "outputs": [
    {
     "name": "stdout",
     "output_type": "stream",
     "text": [
      "\n",
      "Full match precision: 0.7798066595059077\n",
      "Full match recall: 0.6100840336134454\n",
      "Partial match ratio in pred: 0.8872180451127819\n",
      "Full category accuracy: 0.7604726100966702\n",
      "Partial category accuracy: 0.8796992481203008\n",
      "\n"
     ]
    }
   ],
   "source": [
    "#Без всего\n",
    "print(f\"\"\"\n",
    "Full match precision: {full_match / total}\n",
    "Full match recall: {full_match / gold_size}\n",
    "Partial match ratio in pred: {(full_match + partial_match)  / total}\n",
    "Full category accuracy: {full_cat_match / total}\n",
    "Partial category accuracy: {(full_cat_match + partial_cat_match) / total}\n",
    "\"\"\")\n"
   ]
  },
  {
   "cell_type": "code",
   "execution_count": null,
   "metadata": {},
   "outputs": [],
   "source": []
  }
 ],
 "metadata": {
  "kernelspec": {
   "display_name": "Python 3",
   "language": "python",
   "name": "python3"
  },
  "language_info": {
   "codemirror_mode": {
    "name": "ipython",
    "version": 3
   },
   "file_extension": ".py",
   "mimetype": "text/x-python",
   "name": "python",
   "nbconvert_exporter": "python",
   "pygments_lexer": "ipython3",
   "version": "3.7.4"
  }
 },
 "nbformat": 4,
 "nbformat_minor": 5
}
